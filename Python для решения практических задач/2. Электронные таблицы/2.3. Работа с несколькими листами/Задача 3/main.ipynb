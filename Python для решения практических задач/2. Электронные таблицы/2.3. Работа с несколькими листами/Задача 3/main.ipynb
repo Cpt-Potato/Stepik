{
 "cells": [
  {
   "cell_type": "code",
   "execution_count": 24,
   "outputs": [
    {
     "data": {
      "text/plain": "                          Продукт  Вес в граммах  ККал на 100  Б на 100  \\\nДень                                                                      \n1          Рис пропаренный Увелка            160        350.0       8.0   \n1                Свинина Кронидов            250        349.0      13.0   \n1        Хлебцы льняные \"Тайские\"            110        507.0      19.0   \n1             Балык \"Королевский\"             50        170.0      25.0   \n1          Шоколад молочный какао             55        601.0       7.0   \n...                           ...            ...          ...       ...   \n8          Шоколад молочный какао             55        601.0       7.0   \n9     Сухарики ржаные с семечками            120        451.0      17.3   \n9             Балык \"Королевский\"             80        170.0      25.0   \n9                      Сухофрукты            150        548.0      12.8   \n9                    Каша Быстров             80        334.0       8.6   \n\n      Ж на 100  У на 100  \nДень                      \n1          1.0      78.0  \n1         33.0       0.0  \n1         39.0      20.0  \n1          8.0       0.0  \n1         43.0      46.0  \n...        ...       ...  \n8         43.0      46.0  \n9         16.0      59.5  \n9          8.0       0.0  \n9         40.8      32.4  \n9          4.8      64.0  \n\n[99 rows x 6 columns]",
      "text/html": "<div>\n<style scoped>\n    .dataframe tbody tr th:only-of-type {\n        vertical-align: middle;\n    }\n\n    .dataframe tbody tr th {\n        vertical-align: top;\n    }\n\n    .dataframe thead th {\n        text-align: right;\n    }\n</style>\n<table border=\"1\" class=\"dataframe\">\n  <thead>\n    <tr style=\"text-align: right;\">\n      <th></th>\n      <th>Продукт</th>\n      <th>Вес в граммах</th>\n      <th>ККал на 100</th>\n      <th>Б на 100</th>\n      <th>Ж на 100</th>\n      <th>У на 100</th>\n    </tr>\n    <tr>\n      <th>День</th>\n      <th></th>\n      <th></th>\n      <th></th>\n      <th></th>\n      <th></th>\n      <th></th>\n    </tr>\n  </thead>\n  <tbody>\n    <tr>\n      <th>1</th>\n      <td>Рис пропаренный Увелка</td>\n      <td>160</td>\n      <td>350.0</td>\n      <td>8.0</td>\n      <td>1.0</td>\n      <td>78.0</td>\n    </tr>\n    <tr>\n      <th>1</th>\n      <td>Свинина Кронидов</td>\n      <td>250</td>\n      <td>349.0</td>\n      <td>13.0</td>\n      <td>33.0</td>\n      <td>0.0</td>\n    </tr>\n    <tr>\n      <th>1</th>\n      <td>Хлебцы льняные \"Тайские\"</td>\n      <td>110</td>\n      <td>507.0</td>\n      <td>19.0</td>\n      <td>39.0</td>\n      <td>20.0</td>\n    </tr>\n    <tr>\n      <th>1</th>\n      <td>Балык \"Королевский\"</td>\n      <td>50</td>\n      <td>170.0</td>\n      <td>25.0</td>\n      <td>8.0</td>\n      <td>0.0</td>\n    </tr>\n    <tr>\n      <th>1</th>\n      <td>Шоколад молочный какао</td>\n      <td>55</td>\n      <td>601.0</td>\n      <td>7.0</td>\n      <td>43.0</td>\n      <td>46.0</td>\n    </tr>\n    <tr>\n      <th>...</th>\n      <td>...</td>\n      <td>...</td>\n      <td>...</td>\n      <td>...</td>\n      <td>...</td>\n      <td>...</td>\n    </tr>\n    <tr>\n      <th>8</th>\n      <td>Шоколад молочный какао</td>\n      <td>55</td>\n      <td>601.0</td>\n      <td>7.0</td>\n      <td>43.0</td>\n      <td>46.0</td>\n    </tr>\n    <tr>\n      <th>9</th>\n      <td>Сухарики ржаные с семечками</td>\n      <td>120</td>\n      <td>451.0</td>\n      <td>17.3</td>\n      <td>16.0</td>\n      <td>59.5</td>\n    </tr>\n    <tr>\n      <th>9</th>\n      <td>Балык \"Королевский\"</td>\n      <td>80</td>\n      <td>170.0</td>\n      <td>25.0</td>\n      <td>8.0</td>\n      <td>0.0</td>\n    </tr>\n    <tr>\n      <th>9</th>\n      <td>Сухофрукты</td>\n      <td>150</td>\n      <td>548.0</td>\n      <td>12.8</td>\n      <td>40.8</td>\n      <td>32.4</td>\n    </tr>\n    <tr>\n      <th>9</th>\n      <td>Каша Быстров</td>\n      <td>80</td>\n      <td>334.0</td>\n      <td>8.6</td>\n      <td>4.8</td>\n      <td>64.0</td>\n    </tr>\n  </tbody>\n</table>\n<p>99 rows × 6 columns</p>\n</div>"
     },
     "execution_count": 24,
     "metadata": {},
     "output_type": "execute_result"
    }
   ],
   "source": [
    "import pandas as pd\n",
    "\n",
    "meals = pd.read_excel(\"trekking3.xlsx\", sheet_name=\"Раскладка\", index_col=0)\n",
    "reference = pd.read_excel(\"trekking3.xlsx\", sheet_name=\"Справочник\", index_col=0).fillna(0)\n",
    "\n",
    "new_table = meals.join(reference, on=\"Продукт\")\n",
    "new_table"
   ],
   "metadata": {
    "collapsed": false,
    "pycharm": {
     "name": "#%%\n"
    }
   }
  },
  {
   "cell_type": "code",
   "execution_count": 58,
   "outputs": [
    {
     "data": {
      "text/plain": "      ККал на 100  Б на 100  Ж на 100  У на 100\nДень                                           \n1            2405        82       154       172\n2            4963       203       307       302\n3            5219       178       267       502\n4            4873       241       204       537\n5            5278       243       314       367\n6            4451       190       188       497\n7            4806       205       265       386\n8            5738       264       195       720\n9            1766        66        90       171",
      "text/html": "<div>\n<style scoped>\n    .dataframe tbody tr th:only-of-type {\n        vertical-align: middle;\n    }\n\n    .dataframe tbody tr th {\n        vertical-align: top;\n    }\n\n    .dataframe thead th {\n        text-align: right;\n    }\n</style>\n<table border=\"1\" class=\"dataframe\">\n  <thead>\n    <tr style=\"text-align: right;\">\n      <th></th>\n      <th>ККал на 100</th>\n      <th>Б на 100</th>\n      <th>Ж на 100</th>\n      <th>У на 100</th>\n    </tr>\n    <tr>\n      <th>День</th>\n      <th></th>\n      <th></th>\n      <th></th>\n      <th></th>\n    </tr>\n  </thead>\n  <tbody>\n    <tr>\n      <th>1</th>\n      <td>2405</td>\n      <td>82</td>\n      <td>154</td>\n      <td>172</td>\n    </tr>\n    <tr>\n      <th>2</th>\n      <td>4963</td>\n      <td>203</td>\n      <td>307</td>\n      <td>302</td>\n    </tr>\n    <tr>\n      <th>3</th>\n      <td>5219</td>\n      <td>178</td>\n      <td>267</td>\n      <td>502</td>\n    </tr>\n    <tr>\n      <th>4</th>\n      <td>4873</td>\n      <td>241</td>\n      <td>204</td>\n      <td>537</td>\n    </tr>\n    <tr>\n      <th>5</th>\n      <td>5278</td>\n      <td>243</td>\n      <td>314</td>\n      <td>367</td>\n    </tr>\n    <tr>\n      <th>6</th>\n      <td>4451</td>\n      <td>190</td>\n      <td>188</td>\n      <td>497</td>\n    </tr>\n    <tr>\n      <th>7</th>\n      <td>4806</td>\n      <td>205</td>\n      <td>265</td>\n      <td>386</td>\n    </tr>\n    <tr>\n      <th>8</th>\n      <td>5738</td>\n      <td>264</td>\n      <td>195</td>\n      <td>720</td>\n    </tr>\n    <tr>\n      <th>9</th>\n      <td>1766</td>\n      <td>66</td>\n      <td>90</td>\n      <td>171</td>\n    </tr>\n  </tbody>\n</table>\n</div>"
     },
     "execution_count": 58,
     "metadata": {},
     "output_type": "execute_result"
    }
   ],
   "source": [
    "columns = [\"ККал на 100\", \"Б на 100\", \"Ж на 100\", \"У на 100\"]\n",
    "result = new_table[columns].multiply(new_table[\"Вес в граммах\"], axis=0).div(100).groupby(\"День\").sum().astype(int)\n",
    "result"
   ],
   "metadata": {
    "collapsed": false,
    "pycharm": {
     "name": "#%%\n"
    }
   }
  },
  {
   "cell_type": "code",
   "execution_count": 107,
   "outputs": [
    {
     "name": "stdout",
     "output_type": "stream",
     "text": [
      "2405 82 154 172\n",
      "4963 203 307 302\n",
      "5219 178 267 502\n",
      "4873 241 204 537\n",
      "5278 243 314 367\n",
      "4451 190 188 497\n",
      "4806 205 265 386\n",
      "5738 264 195 720\n",
      "1766 66 90 171\n"
     ]
    }
   ],
   "source": [
    "for item in result.to_csv().split()[-9:]:\n",
    "    print(*item.split(\",\")[1:])"
   ],
   "metadata": {
    "collapsed": false,
    "pycharm": {
     "name": "#%%\n"
    }
   }
  }
 ],
 "metadata": {
  "kernelspec": {
   "display_name": "Python 3",
   "language": "python",
   "name": "python3"
  },
  "language_info": {
   "codemirror_mode": {
    "name": "ipython",
    "version": 2
   },
   "file_extension": ".py",
   "mimetype": "text/x-python",
   "name": "python",
   "nbconvert_exporter": "python",
   "pygments_lexer": "ipython2",
   "version": "2.7.6"
  }
 },
 "nbformat": 4,
 "nbformat_minor": 0
}